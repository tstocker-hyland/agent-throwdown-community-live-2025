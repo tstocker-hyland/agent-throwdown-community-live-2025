{
 "cells": [
  {
   "cell_type": "code",
   "execution_count": null,
   "id": "e0f6e600-f1e0-4b81-b52b-af3f0f050d42",
   "metadata": {},
   "outputs": [],
   "source": [
    "import json\n",
    "import urllib\n",
    "import urllib.parse\n",
    "import urllib.request\n",
    "import requests\n",
    "import webbrowser\n",
    "from getpass import getpass"
   ]
  },
  {
   "cell_type": "code",
   "execution_count": null,
   "id": "586b26ba-3327-4ec8-b430-0ee1719ba106",
   "metadata": {},
   "outputs": [],
   "source": [
    "auth_url = requests.get(\"http://rdv-007679.hylandqa.net:8000/authenticate\").json()[\"auth_url\"]\n",
    "webbrowser.open(auth_url)"
   ]
  },
  {
   "cell_type": "code",
   "execution_count": null,
   "id": "b9d78f8d-dbe3-4f2f-90e0-d24646ebc798",
   "metadata": {},
   "outputs": [],
   "source": [
    "payload = {\n",
    "    \"name\": \"DocumentHelper\",\n",
    "    \"description\": \"Document assistant\",\n",
    "    \"agentType\": \"rag\",\n",
    "    \"notes\": \"Initial version - shows all configuration options\",\n",
    "    \"config\": {\n",
    "        \"filter_value\": {},\n",
    "        \"limit\": 25,\n",
    "        \"llm_model_id\": \"amazon.nova-micro-v1:0\",\n",
    "        \"system_prompt\": \"Context information is below.\\n---------------------\\n{context_str}\\n---------------------\\nGiven the context information and not prior knowledge, answer the query.\\nQuery: {query_str}\\nAnswer:\",\n",
    "        \"inference_config\": {\n",
    "            \"temperature\": 0.7,\n",
    "            \"max_tokens\": 4000\n",
    "        }\n",
    "    }\n",
    "}"
   ]
  },
  {
   "cell_type": "code",
   "execution_count": null,
   "id": "394209dc-6bfa-4acb-933e-d67533700d74",
   "metadata": {},
   "outputs": [],
   "source": [
    "access_token = getpass(\"Enter access_token: \")"
   ]
  },
  {
   "cell_type": "code",
   "execution_count": null,
   "id": "9c25585b-48b9-44b4-8732-a665e5272b60",
   "metadata": {},
   "outputs": [],
   "source": [
    "headers = {\n",
    "  'Content-Type': 'application/json',\n",
    "  'Accept': 'application/json',\n",
    "  'Authorization': f'Bearer {access_token}'\n",
    "}"
   ]
  },
  {
   "cell_type": "code",
   "execution_count": null,
   "id": "203cd572-cd86-4fac-be49-fd13b70c063b",
   "metadata": {},
   "outputs": [],
   "source": [
    "response = requests.post(\"https://api.agents.ai.dev.experience.hyland.com/agent-platform/v1/agents\", json=payload, headers=headers)\n",
    "print(response.status_code)\n",
    "print(response.text)"
   ]
  },
  {
   "cell_type": "code",
   "execution_count": null,
   "id": "6591e0d7-4d22-4c8e-9000-2fca28954b16",
   "metadata": {},
   "outputs": [],
   "source": []
  }
 ],
 "metadata": {
  "kernelspec": {
   "display_name": "Python 3 (ipykernel)",
   "language": "python",
   "name": "python3"
  },
  "language_info": {
   "codemirror_mode": {
    "name": "ipython",
    "version": 3
   },
   "file_extension": ".py",
   "mimetype": "text/x-python",
   "name": "python",
   "nbconvert_exporter": "python",
   "pygments_lexer": "ipython3",
   "version": "3.12.0"
  }
 },
 "nbformat": 4,
 "nbformat_minor": 5
}
