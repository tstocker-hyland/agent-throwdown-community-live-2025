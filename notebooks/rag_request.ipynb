{
 "cells": [
  {
   "cell_type": "code",
   "execution_count": 1,
   "id": "e1fa53f5-5251-4d6d-bde4-de0a1cd65bc7",
   "metadata": {},
   "outputs": [],
   "source": [
    "import json\n",
    "import sys\n",
    "import urllib\n",
    "import urllib.parse\n",
    "import urllib.request\n",
    "import requests"
   ]
  },
  {
   "cell_type": "code",
   "execution_count": 2,
   "id": "e0f6e600-f1e0-4b81-b52b-af3f0f050d42",
   "metadata": {},
   "outputs": [],
   "source": [
    "def get_token(\n",
    "    data: dict[str, str],\n",
    ") -> str | None:\n",
    "    encoded_data = urllib.parse.urlencode(data).encode(\"utf-8\")\n",
    "\n",
    "    headers_for_auth_request = {\"Content-Type\": \"application/x-www-form-urlencoded\"}\n",
    "\n",
    "    auth_url = \"https://auth.iam.dev.experience.hyland.com/idp/connect/token\"\n",
    "    print(f\"Getting token from {auth_url}\")\n",
    "    try:\n",
    "        req = urllib.request.Request(auth_url, data=encoded_data, headers=headers_for_auth_request, method=\"POST\")\n",
    "\n",
    "        with urllib.request.urlopen(req) as response_from_auth:            \n",
    "            response_data = json.loads(response_from_auth.read().decode(\"utf-8\"))\n",
    "            access_token = response_data.get(\"access_token\")\n",
    "            print(f\"access_token: {access_token}\")\n",
    "            return access_token\n",
    "\n",
    "    except Exception as e:\n",
    "        print(f\"Failed to get token: {str(e)}\")\n",
    "\n",
    "    return None"
   ]
  },
  {
   "cell_type": "code",
   "execution_count": 3,
   "id": "b9d78f8d-dbe3-4f2f-90e0-d24646ebc798",
   "metadata": {},
   "outputs": [],
   "source": [
    "payload = {\n",
    "    \"name\": \"DocumentHelper\",\n",
    "    \"description\": \"Document assistant\",\n",
    "    \"agentType\": \"rag\",\n",
    "    \"notes\": \"Initial version - shows all configuration options\",\n",
    "    \"config\": {\n",
    "        \"filter_value\": {},\n",
    "        \"limit\": 25,\n",
    "        \"llm_model_id\": \"amazon.nova-micro-v1:0\",\n",
    "        \"system_prompt\": \"Context information is below.\\n---------------------\\n{context_str}\\n---------------------\\nGiven the context information and not prior knowledge, answer the query.\\nQuery: {query_str}\\nAnswer:\",\n",
    "        \"inference_config\": {\n",
    "            \"temperature\": 0.7,\n",
    "            \"max_tokens\": 4000\n",
    "        }\n",
    "    }\n",
    "}"
   ]
  },
  {
   "cell_type": "code",
   "execution_count": 4,
   "id": "586b26ba-3327-4ec8-b430-0ee1719ba106",
   "metadata": {},
   "outputs": [
    {
     "name": "stdin",
     "output_type": "stream",
     "text": [
      "Enter client_id isc-b33a4699-2f82-4381-a7c2-36369be470ed\n",
      "Enter client_secret hyx_cs_z4Hhz3wgQzmO61j4KVCY7hz0tvidyKt7lEn55lJBLVJW3zDdvz\n"
     ]
    }
   ],
   "source": [
    "# For authentication requeset\n",
    "client_id = input(\"Enter client_id\")\n",
    "client_secret = input(\"Enter client_secret\")"
   ]
  },
  {
   "cell_type": "code",
   "execution_count": 5,
   "id": "4f0ae637-ca39-4640-be39-be818f01650d",
   "metadata": {},
   "outputs": [
    {
     "name": "stdout",
     "output_type": "stream",
     "text": [
      "Getting token from https://auth.iam.dev.experience.hyland.com/idp/connect/token\n",
      "access_token: eyJhbGciOiJQUzI1NiIsImtpZCI6IjI2NDg5ODcxNjI5RDY4QTk1QjFFQzY3MjUwOEZDQTI3IiwidHlwIjoiYXQrand0In0.eyJpc3MiOiJodHRwczovL2F1dGguaWFtLmRldi5leHBlcmllbmNlLmh5bGFuZC5jb20vaWRwIiwibmJmIjoxNzU0NDAwNTIwLCJpYXQiOjE3NTQ0MDA1MjAsImV4cCI6MTc1NDQwMTQyMCwiYXVkIjpbImh4cC5hdXRob3JpemF0aW9uIiwiaHhwIl0sInNjb3BlIjpbImVudmlyb25tZW50X2F1dGhvcml6YXRpb24iLCJoeHAiXSwiYW1yIjpbInVybjpoeWxhbmQ6cGFyYW1zOm9hdXRoOmdyYW50LXR5cGU6YXBpLWNyZWRlbnRpYWxzIl0sImNsaWVudF9pZCI6ImlzYy1iMzNhNDY5OS0yZjgyLTQzODEtYTdjMi0zNjM2OWJlNDcwZWQiLCJzdWIiOiJmZTk0ZWU4MS00ZWMxLTQ1MjAtYWY3Yy1iZTIxYmYyMzI5OGYiLCJhdXRoX3RpbWUiOjE3NTQ0MDA1MjAsImlkcCI6ImxvY2FsIiwiaHhwX2FjY291bnQiOiI5ZGE2ZWRmOS1iZGIwLTQ5MDctYTlmYS1hYTRlNzhhODVjMGYiLCJoeHBfYXV0aG9yaXphdGlvbiI6eyJhY2NvdW50X2lkIjoiOWRhNmVkZjktYmRiMC00OTA3LWE5ZmEtYWE0ZTc4YTg1YzBmIiwiZW52aXJvbm1lbnRfaWQiOiJhYTE0MjA4ZS1kZmY2LTRjYzMtYjI3ZS1jMjNlNmE0OTljMjgiLCJzdWJzY3JpcHRpb25faWQiOiI3MDdkYTQ0OS1iNDlkLTQ1OTYtODZkOC1kNTQ2NWQ3ZTY4OTciLCJhcHBrZXkiOiJjaW4tYWdlbnQtYnVpbGRlciIsInJvbGUiOlsiY2luLWFnZW50LWJ1aWxkZXIuYWRtaW4iXSwicGVybWlzc2lvbiI6WyJjaW4tYWdlbnQtYnVpbGRlci5hZ2VudHMuaW52b2tlLWFnZW50IiwiY2luLWFnZW50LWJ1aWxkZXIuYWdlbnRzLnJlYWQiLCJjaW4tYWdlbnQtYnVpbGRlci5hZ2VudHMuY3JlYXRlIiwiY2luLWFnZW50LWJ1aWxkZXIuYWdlbnRzLmRlbGV0ZSIsImNpbi1hZ2VudC1idWlsZGVyLmFnZW50cy5lZGl0Il19LCJqdGkiOiJBM0FDQTMzODA1NzNFOEE4MjBEOTQzM0ZGNjIwMENCNiJ9.JuOS_SKRo3tUlcEsvsplWXjKZbZjr6uTPT3m1UDhXifbNTt8uch48Ujq19KCrZE_vbcWBFMSF8xIDntBX2VZ5SGXa4N3qeymNQfFYbAIHQUpZjlSGoQcUPy0uhETvs1sG5fF0F--4XXdubbjs45VHc0q9DlfzDGmp-ywqGc3sQ4CfPKVwyedyduOQQz3hSKgIQ6jUFBf8woo8Lcug8RoesADwiL1QYsuaRRtM22tfEK8GJi5xG3NGP3KnpmQZd-LrVxWt1TOBsWF1jgtorfSaIDD9j7hmVHlb_inIGhLck0fT6OTh4890LicYj8nfu6NPz0UllpPAxqv6kvYUoSNtw\n"
     ]
    }
   ],
   "source": [
    "access_token = get_token({\n",
    "        \"client_id\": client_id,\n",
    "        \"grant_type\": \"client_credentials\",\n",
    "        \"client_secret\": client_secret,\n",
    "        \"scope\": \"hxp environment_authorization\"\n",
    "    })"
   ]
  },
  {
   "cell_type": "code",
   "execution_count": 6,
   "id": "9c25585b-48b9-44b4-8732-a665e5272b60",
   "metadata": {},
   "outputs": [],
   "source": [
    "headers = {\n",
    "  'Content-Type': 'application/json',\n",
    "  'Accept': 'application/json',\n",
    "  'Authorization': f'Bearer {access_token}'\n",
    "}"
   ]
  },
  {
   "cell_type": "code",
   "execution_count": 7,
   "id": "203cd572-cd86-4fac-be49-fd13b70c063b",
   "metadata": {},
   "outputs": [
    {
     "name": "stdout",
     "output_type": "stream",
     "text": [
      "201\n",
      "{\"id\":\"9f019e3b-e2d2-41dd-9797-8ae979e12f02\",\"type\":\"rag\",\"name\":\"DocumentHelper\",\"description\":\"Document assistant\",\"status\":\"CREATED\",\"isGlobalAgent\":false,\"currentVersionId\":\"8c3ef33f-ea6c-4a4f-b412-de3ce15f5f8f\",\"createdAt\":\"2025-08-05T13:28:43.919308+00:00\",\"createdBy\":\"fe94ee81-4ec1-4520-af7c-be21bf23298f\",\"modifiedAt\":\"2025-08-05T13:28:44.317604+00:00\",\"modifiedBy\":\"fe94ee81-4ec1-4520-af7c-be21bf23298f\"}\n"
     ]
    }
   ],
   "source": [
    "response = requests.post(\"https://api.agents.ai.dev.experience.hyland.com/agent-platform/v1/agents\", json=payload, headers=headers)\n",
    "print(response.status_code)\n",
    "print(response.text)"
   ]
  },
  {
   "cell_type": "code",
   "execution_count": null,
   "id": "6591e0d7-4d22-4c8e-9000-2fca28954b16",
   "metadata": {},
   "outputs": [],
   "source": []
  }
 ],
 "metadata": {
  "kernelspec": {
   "display_name": "Python (.venv)",
   "language": "python",
   "name": "venv"
  },
  "language_info": {
   "codemirror_mode": {
    "name": "ipython",
    "version": 3
   },
   "file_extension": ".py",
   "mimetype": "text/x-python",
   "name": "python",
   "nbconvert_exporter": "python",
   "pygments_lexer": "ipython3",
   "version": "3.12.0"
  }
 },
 "nbformat": 4,
 "nbformat_minor": 5
}
