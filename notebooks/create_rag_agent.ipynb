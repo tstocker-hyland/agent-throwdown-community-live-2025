{
 "cells": [
  {
   "cell_type": "markdown",
   "id": "8a7b6072",
   "metadata": {},
   "source": [
    "# RAG Agent Creation Tutorial\n",
    "\n",
    "## Overview\n",
    "This notebook demonstrates how to create a **Retrieval-Augmented Generation (RAG) agent** using the Hyland Agent Platform API. You'll learn to:\n",
    "\n",
    "1. **Authenticate** with the Hyland API using OAuth 2.0 client credentials\n",
    "2. **Configure** a RAG agent with specific parameters\n",
    "3. **Create** the agent via REST API calls\n",
    "4. **Understand** the response and next steps\n",
    "\n",
    "## Prerequisites\n",
    "- Valid Hyland client credentials (`CLIENT_ID` and `CLIENT_SECRET`)\n",
    "- Basic understanding of REST APIs and JSON\n",
    "- Familiarity with Python (helpful but not required)\n",
    "\n",
    "## Instructions\n",
    "1. **Run cells sequentially** from top to bottom\n",
    "2. **Read the explanations** before each code section\n",
    "3. **Enter your credentials** when prompted (they will be hidden)\n",
    "4. **Check the output** after each cell execution\n",
    "\n",
    "---"
   ]
  },
  {
   "cell_type": "markdown",
   "id": "af6d148c",
   "metadata": {},
   "source": [
    "## Step 1: Import Libraries and Define Authentication Function\n",
    "\n",
    "The cell below imports the necessary Python libraries and defines a helper function for OAuth authentication.\n",
    "\n",
    "**What this does:**\n",
    "- **`json`**: For parsing API responses\n",
    "- **`os`**: For accessing environment variables\n",
    "- **`urllib`**: For making HTTP requests to the authentication endpoint\n",
    "- **`requests`**: For making the main API calls\n",
    "- **`getpass`**: For securely entering passwords (hides input)\n",
    "\n",
    "**The `get_token()` function:**\n",
    "- Takes client credentials as input\n",
    "- Makes a POST request to Hyland's OAuth token endpoint\n",
    "- Returns an access token for API authorization\n",
    "- Handles errors gracefully"
   ]
  },
  {
   "cell_type": "code",
   "execution_count": null,
   "id": "e0f6e600-f1e0-4b81-b52b-af3f0f050d42",
   "metadata": {},
   "outputs": [],
   "source": [
    "import json\n",
    "import urllib\n",
    "import urllib.parse\n",
    "import urllib.request\n",
    "import requests\n",
    "from getpass import getpass\n",
    "\n",
    "def get_token(\n",
    "    data: dict[str, str],\n",
    ") -> str | None:\n",
    "    encoded_data = urllib.parse.urlencode(data).encode(\"utf-8\")\n",
    "\n",
    "    headers_for_auth_request = {\"Content-Type\": \"application/x-www-form-urlencoded\"}\n",
    "\n",
    "    auth_url = \"https://auth.iam.dev.experience.hyland.com/idp/connect/token\"\n",
    "    print(f\"Getting token from {auth_url}\")\n",
    "    try:\n",
    "        req = urllib.request.Request(auth_url, data=encoded_data, headers=headers_for_auth_request, method=\"POST\")\n",
    "\n",
    "        with urllib.request.urlopen(req) as response_from_auth:            \n",
    "            response_data = json.loads(response_from_auth.read().decode(\"utf-8\"))\n",
    "            access_token = response_data.get(\"access_token\")\n",
    "            print(f\"access_token: {access_token}\")\n",
    "            return access_token\n",
    "\n",
    "    except Exception as e:\n",
    "        print(f\"Failed to get token: {str(e)}\")\n",
    "\n",
    "    return None"
   ]
  },
  {
   "cell_type": "markdown",
   "id": "d6f78924",
   "metadata": {},
   "source": [
    "## Step 2: Configure Your RAG Agent\n",
    "\n",
    "The next cell defines the configuration for your RAG agent. This JSON payload specifies how your agent will behave.\n",
    "\n",
    "**Key Configuration Options:**\n",
    "- **`name`**: A friendly name for your agent (\"DocumentHelper\")\n",
    "- **`description`**: What your agent does (\"Document assistant\")\n",
    "- **`agentType`**: Set to \"rag\" for Retrieval-Augmented Generation\n",
    "- **`limit`**: Maximum number of documents to retrieve (25)\n",
    "- **`llm_model_id`**: The AI model to use (Amazon Nova Micro)\n",
    "- **`system_prompt`**: Instructions that guide how the AI responds\n",
    "- **`temperature`**: Controls creativity (0.7 = balanced)\n",
    "- **`max_tokens`**: Maximum response length (4000 tokens)\n",
    "\n",
    "**💡 Tip:** You can modify these values to customize your agent's behavior before running the cell."
   ]
  },
  {
   "cell_type": "code",
   "execution_count": null,
   "id": "b9d78f8d-dbe3-4f2f-90e0-d24646ebc798",
   "metadata": {},
   "outputs": [],
   "source": [
    "payload = {\n",
    "    \"name\": \"DocumentHelper\",\n",
    "    \"description\": \"Document assistant\",\n",
    "    \"agentType\": \"rag\",\n",
    "    \"notes\": \"Initial version - shows all configuration options\",\n",
    "    \"config\": {\n",
    "        \"filter_value\": {},\n",
    "        \"limit\": 25,\n",
    "        \"llm_model_id\": \"amazon.nova-micro-v1:0\",\n",
    "        \"system_prompt\": \"Context information is below.\\n---------------------\\n{context_str}\\n---------------------\\nGiven the context information and not prior knowledge, answer the query.\\nQuery: {query_str}\\nAnswer:\",\n",
    "        \"inference_config\": {\n",
    "            \"temperature\": 0.7,\n",
    "            \"max_tokens\": 4000\n",
    "        }\n",
    "    }\n",
    "}"
   ]
  },
  {
   "cell_type": "markdown",
   "id": "dd1bad02",
   "metadata": {},
   "source": [
    "## Step 3: Authenticate with Your Credentials\n",
    "\n",
    "Now you'll enter your Hyland API credentials to get authorized access.\n",
    "\n",
    "**What happens when you run this cell:**\n",
    "1. **Environment Check**: First checks if credentials are available as environment variables\n",
    "2. **Secure Input**: If not found, prompts you to enter them manually (input will be hidden)\n",
    "3. **Validation**: Shows whether credentials were found or entered\n",
    "\n",
    "**🔐 Security Note:** Your credentials are never displayed or stored in the notebook output.\n",
    "\n",
    "**📝 If prompted, enter:**\n",
    "- Your **Client ID** (looks like a UUID)\n",
    "- Your **Client Secret** (a longer string)"
   ]
  },
  {
   "cell_type": "code",
   "execution_count": null,
   "id": "586b26ba-3327-4ec8-b430-0ee1719ba106",
   "metadata": {},
   "outputs": [],
   "source": [
    "# Authentication - Enter your Hyland API credentials\n",
    "print(\"Please enter your Hyland API credentials\")\n",
    "print(\"Your input will be hidden for security\")\n",
    "\n",
    "client_id = getpass(\"Enter your CLIENT_ID: \")\n",
    "client_secret = getpass(\"Enter your CLIENT_SECRET: \")\n",
    "\n",
    "if client_id and client_secret:\n",
    "    print(\"Credentials entered successfully!\")\n",
    "else:\n",
    "    print(\"Missing credentials - please run this cell again\")"
   ]
  },
  {
   "cell_type": "markdown",
   "id": "13c3ce66",
   "metadata": {},
   "source": [
    "## Step 4: Get Access Token\n",
    "\n",
    "This cell exchanges your credentials for an access token using OAuth 2.0 client credentials flow.\n",
    "\n",
    "**What this does:**\n",
    "- Calls the `get_token()` function with your credentials\n",
    "- Uses the \"client_credentials\" grant type for server-to-server authentication\n",
    "- Requests access to \"hxp environment_authorization\" scope\n",
    "- Returns a temporary access token (typically valid for 1 hour)\n",
    "\n",
    "**Expected output:** You should see the token endpoint URL and a success message with your access token."
   ]
  },
  {
   "cell_type": "code",
   "execution_count": null,
   "id": "4f0ae637-ca39-4640-be39-be818f01650d",
   "metadata": {},
   "outputs": [],
   "source": [
    "access_token = get_token({\n",
    "        \"client_id\": client_id,\n",
    "        \"grant_type\": \"client_credentials\",\n",
    "        \"client_secret\": client_secret,\n",
    "        \"scope\": \"hxp environment_authorization\"\n",
    "    })"
   ]
  },
  {
   "cell_type": "markdown",
   "id": "ba4cf0af",
   "metadata": {},
   "source": [
    "## Step 5: Prepare HTTP Headers\n",
    "\n",
    "This cell sets up the HTTP headers needed for the API request to create your RAG agent.\n",
    "\n",
    "**Headers explained:**\n",
    "- **`Content-Type`**: Tells the server we're sending JSON data\n",
    "- **`Accept`**: Tells the server we expect JSON response\n",
    "- **`Authorization`**: Includes your Bearer token for authentication\n",
    "\n",
    "**Note:** The `f'Bearer {access_token}'` syntax inserts your token from the previous step."
   ]
  },
  {
   "cell_type": "code",
   "execution_count": null,
   "id": "9c25585b-48b9-44b4-8732-a665e5272b60",
   "metadata": {},
   "outputs": [],
   "source": [
    "headers = {\n",
    "  'Content-Type': 'application/json',\n",
    "  'Accept': 'application/json',\n",
    "  'Authorization': f'Bearer {access_token}'\n",
    "}"
   ]
  },
  {
   "cell_type": "markdown",
   "id": "4fcf4962",
   "metadata": {},
   "source": [
    "## Step 6: Create Your RAG Agent\n",
    "\n",
    "This is the main API call that creates your RAG agent on the Hyland platform.\n",
    "\n",
    "**What this does:**\n",
    "- Makes a POST request to the agents endpoint\n",
    "- Sends your agent configuration (from Step 2) as JSON\n",
    "- Includes authentication headers (from Step 5)\n",
    "- Returns the creation result\n",
    "\n",
    "**Expected responses:**\n",
    "- **Status 201**: ✅ Success - Agent created successfully\n",
    "- **Status 400**: ❌ Bad Request - Check your configuration\n",
    "- **Status 401**: ❌ Unauthorized - Check your credentials\n",
    "- **Status 403**: ❌ Forbidden - Check your permissions\n",
    "\n",
    "**The response will include:**\n",
    "- Your new agent's unique ID\n",
    "- Confirmation of the configuration\n",
    "- Any validation messages"
   ]
  },
  {
   "cell_type": "code",
   "execution_count": null,
   "id": "203cd572-cd86-4fac-be49-fd13b70c063b",
   "metadata": {},
   "outputs": [],
   "source": [
    "response = requests.post(\"https://api.agents.ai.dev.experience.hyland.com/agent-platform/v1/agents\", json=payload, headers=headers)\n",
    "print(response.status_code)\n",
    "print(response.text)"
   ]
  },
  {
   "cell_type": "markdown",
   "id": "2d3802ff",
   "metadata": {},
   "source": [
    "## Next Steps & Troubleshooting\n",
    "\n",
    "### ✅ If Successful (Status 201)\n",
    "Your RAG agent has been created! You can now:\n",
    "1. **Note your agent ID** from the response\n",
    "2. **Use the agent** in your applications\n",
    "3. **Test queries** against your document collection\n",
    "4. **Monitor performance** through the Hyland dashboard\n",
    "\n",
    "### ❌ Common Issues\n",
    "\n",
    "**Status 400 (Bad Request)**\n",
    "- Check your payload configuration\n",
    "- Verify all required fields are present\n",
    "- Ensure model ID is valid\n",
    "\n",
    "**Status 401 (Unauthorized)**\n",
    "- Verify your CLIENT_ID and CLIENT_SECRET\n",
    "- Check if credentials have expired\n",
    "- Ensure you're using the correct environment\n",
    "\n",
    "**Status 403 (Forbidden)**\n",
    "- Confirm your account has agent creation permissions\n",
    "- Check if you're within usage limits\n",
    "\n",
    "### 🔧 Modifying Your Agent\n",
    "To create agents with different configurations:\n",
    "1. Go back to **Step 2**\n",
    "2. Modify the `payload` dictionary\n",
    "3. Re-run from **Step 6** onwards\n",
    "\n",
    "### 📚 Additional Resources\n",
    "- [Hyland Agent Platform Documentation](https://docs.hyland.com)\n",
    "- [RAG Agent Configuration Guide](https://docs.hyland.com/agents/rag)\n",
    "- [API Reference](https://api.agents.ai.dev.experience.hyland.com/docs)"
   ]
  },
  {
   "cell_type": "code",
   "execution_count": null,
   "id": "6591e0d7-4d22-4c8e-9000-2fca28954b16",
   "metadata": {},
   "outputs": [],
   "source": []
  }
 ],
 "metadata": {
  "kernelspec": {
   "display_name": "Python 3 (ipykernel)",
   "language": "python",
   "name": "python3"
  },
  "language_info": {
   "codemirror_mode": {
    "name": "ipython",
    "version": 3
   },
   "file_extension": ".py",
   "mimetype": "text/x-python",
   "name": "python",
   "nbconvert_exporter": "python",
   "pygments_lexer": "ipython3",
   "version": "3.12.0"
  }
 },
 "nbformat": 4,
 "nbformat_minor": 5
}
