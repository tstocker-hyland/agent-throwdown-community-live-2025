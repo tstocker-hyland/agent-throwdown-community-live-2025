{
 "cells": [
  {
   "cell_type": "code",
   "execution_count": null,
   "id": "33feb050-409d-43ea-8ddb-f35a3f4a8cfc",
   "metadata": {},
   "outputs": [],
   "source": [
    "import json\n",
    "import requests\n",
    "import urllib\n",
    "import urllib.parse\n",
    "import urllib.request\n",
    "from getpass import getpass"
   ]
  },
  {
   "cell_type": "code",
   "execution_count": null,
   "id": "9f048d41-cd3f-49b2-a8a7-e84449af5832",
   "metadata": {},
   "outputs": [],
   "source": [
    "payload = {\n",
    "    \"messages\": [\n",
    "        {\n",
    "            \"role\": \"user\",\n",
    "            \"content\": \"What is the company's sick leave policy?\"\n",
    "        },\n",
    "        {\n",
    "            \"role\": \"assistant\",\n",
    "            \"content\": \"The company's sick leave policy allows employees to take a certain number of sick days per year. Please refer to the employee handbook for specific details and eligibility criteria.\"\n",
    "        },\n",
    "        {\n",
    "            \"role\": \"user\",\n",
    "            \"content\": \"Tell me more about HR docs?\"\n",
    "        }\n",
    "    ],\n",
    "    \"filterValue\": {}\n",
    "}\n"
   ]
  },
  {
   "cell_type": "code",
   "execution_count": null,
   "id": "9a4df457-aa8d-4b8c-80c6-08bb5635a763",
   "metadata": {},
   "outputs": [],
   "source": [
    "def get_token(\n",
    "    data: dict[str, str],\n",
    ") -> str | None:\n",
    "    encoded_data = urllib.parse.urlencode(data).encode(\"utf-8\")\n",
    "\n",
    "    headers_for_auth_request = {\"Content-Type\": \"application/x-www-form-urlencoded\"}\n",
    "\n",
    "    auth_url = \"https://auth.iam.dev.experience.hyland.com/idp/connect/token\"\n",
    "    print(f\"Getting token from {auth_url}\")\n",
    "    try:\n",
    "        req = urllib.request.Request(auth_url, data=encoded_data, headers=headers_for_auth_request, method=\"POST\")\n",
    "\n",
    "        with urllib.request.urlopen(req) as response_from_auth:            \n",
    "            response_data = json.loads(response_from_auth.read().decode(\"utf-8\"))\n",
    "            access_token = response_data.get(\"access_token\")\n",
    "            print(f\"access_token: {access_token}\")\n",
    "            return access_token\n",
    "\n",
    "    except Exception as e:\n",
    "        print(f\"Failed to get token: {str(e)}\")\n",
    "\n",
    "    return None"
   ]
  },
  {
   "cell_type": "code",
   "execution_count": null,
   "id": "c0799c98-a42e-4148-a980-0ec0dc8d983d",
   "metadata": {},
   "outputs": [],
   "source": [
    "# Authentication - Enter your Hyland API credentials\n",
    "print(\"Please enter your Hyland API credentials\")\n",
    "print(\"Your input will be hidden for security\")\n",
    "\n",
    "client_id = getpass(\"Enter your CLIENT_ID: \")\n",
    "client_secret = getpass(\"Enter your CLIENT_SECRET: \")\n",
    "\n",
    "if client_id and client_secret:\n",
    "    print(\"Credentials entered successfully!\")\n",
    "else:\n",
    "    print(\"Missing credentials - please run this cell again\")"
   ]
  },
  {
   "cell_type": "code",
   "execution_count": null,
   "id": "511b6f6a-3f24-4ecc-a314-7a4f7e531eb0",
   "metadata": {},
   "outputs": [],
   "source": [
    "access_token = get_token({\n",
    "        \"client_id\": client_id,\n",
    "        \"grant_type\": \"client_credentials\",\n",
    "        \"client_secret\": client_secret,\n",
    "        \"scope\": \"hxp environment_authorization\"\n",
    "    })"
   ]
  },
  {
   "cell_type": "code",
   "execution_count": null,
   "id": "1f687085-9ded-4f2d-840c-383850f3958c",
   "metadata": {},
   "outputs": [],
   "source": [
    "headers = {\n",
    "  'Content-Type': 'application/json',\n",
    "  'Accept': 'application/json',\n",
    "  'Authorization': f'Bearer {access_token}'\n",
    "}"
   ]
  },
  {
   "cell_type": "code",
   "execution_count": null,
   "id": "892931bb-cc1b-4eeb-9c96-08fcfaa05c8d",
   "metadata": {},
   "outputs": [],
   "source": [
    "print(\"Please enter RAG agent ID\")\n",
    "agent_id = getpass(\"Enter RAG agent ID: \")\n",
    "\n",
    "if agent_id:\n",
    "    print(\"RAG agent ID entered successfully!\")\n",
    "else:\n",
    "    print(\"Missing RAG agent ID - please run this cell again\")"
   ]
  },
  {
   "cell_type": "code",
   "execution_count": null,
   "id": "f837bf0d-1aa0-4143-ba5d-8039489ad6ea",
   "metadata": {},
   "outputs": [],
   "source": [
    "response = requests.post(f\"https://api.agents.ai.dev.experience.hyland.com/agent-platform/v1/agents/{agent_id}/versions/latest/invoke\", json=payload, headers=headers)\n",
    "print(response.status_code)\n",
    "print(response.text)"
   ]
  },
  {
   "cell_type": "code",
   "execution_count": null,
   "id": "2c92dfdd-668e-4a70-b507-4a140937e2a3",
   "metadata": {},
   "outputs": [],
   "source": []
  }
 ],
 "metadata": {
  "kernelspec": {
   "display_name": "Python 3 (ipykernel)",
   "language": "python",
   "name": "python3"
  },
  "language_info": {
   "codemirror_mode": {
    "name": "ipython",
    "version": 3
   },
   "file_extension": ".py",
   "mimetype": "text/x-python",
   "name": "python",
   "nbconvert_exporter": "python",
   "pygments_lexer": "ipython3",
   "version": "3.12.0"
  }
 },
 "nbformat": 4,
 "nbformat_minor": 5
}
